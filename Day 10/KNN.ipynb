{
 "cells": [
  {
   "cell_type": "code",
   "execution_count": 1,
   "metadata": {},
   "outputs": [],
   "source": [
    "from sklearn import datasets\n",
    "\n",
    "wine = datasets.load_wine()"
   ]
  },
  {
   "cell_type": "code",
   "execution_count": 2,
   "metadata": {},
   "outputs": [
    {
     "data": {
      "text/plain": [
       "['alcohol',\n",
       " 'malic_acid',\n",
       " 'ash',\n",
       " 'alcalinity_of_ash',\n",
       " 'magnesium',\n",
       " 'total_phenols',\n",
       " 'flavanoids',\n",
       " 'nonflavanoid_phenols',\n",
       " 'proanthocyanins',\n",
       " 'color_intensity',\n",
       " 'hue',\n",
       " 'od280/od315_of_diluted_wines',\n",
       " 'proline']"
      ]
     },
     "execution_count": 2,
     "metadata": {},
     "output_type": "execute_result"
    }
   ],
   "source": [
    "wine.feature_names"
   ]
  },
  {
   "cell_type": "code",
   "execution_count": 5,
   "metadata": {},
   "outputs": [
    {
     "data": {
      "text/plain": [
       "array(['class_0', 'class_1', 'class_2'], dtype='<U7')"
      ]
     },
     "execution_count": 5,
     "metadata": {},
     "output_type": "execute_result"
    }
   ],
   "source": [
    "wine.target_names"
   ]
  },
  {
   "cell_type": "code",
   "execution_count": 6,
   "metadata": {},
   "outputs": [
    {
     "data": {
      "text/plain": [
       "(178, 13)"
      ]
     },
     "execution_count": 6,
     "metadata": {},
     "output_type": "execute_result"
    }
   ],
   "source": [
    "wine.data.shape"
   ]
  },
  {
   "cell_type": "code",
   "execution_count": 7,
   "metadata": {},
   "outputs": [
    {
     "data": {
      "text/plain": [
       "(178,)"
      ]
     },
     "execution_count": 7,
     "metadata": {},
     "output_type": "execute_result"
    }
   ],
   "source": [
    "wine.target.shape"
   ]
  },
  {
   "cell_type": "code",
   "execution_count": 8,
   "metadata": {},
   "outputs": [],
   "source": [
    "from sklearn.model_selection import train_test_split\n",
    "\n",
    "X_train, X_test, y_train, y_test = train_test_split(wine.data, wine.target, test_size=0.3)"
   ]
  },
  {
   "cell_type": "code",
   "execution_count": 46,
   "metadata": {},
   "outputs": [],
   "source": [
    "from sklearn.neighbors import KNeighborsClassifier\n",
    "\n",
    "clf = KNeighborsClassifier(n_neighbors = 4)"
   ]
  },
  {
   "cell_type": "code",
   "execution_count": 47,
   "metadata": {},
   "outputs": [],
   "source": [
    "clf.fit(X_train, y_train) \n",
    "pred = clf.predict(X_test)"
   ]
  },
  {
   "cell_type": "code",
   "execution_count": 54,
   "metadata": {},
   "outputs": [],
   "source": [
    "from sklearn.metrics import confusion_matrix\n",
    "from sklearn.metrics import accuracy_score\n",
    "from matplotlib import pyplot as plt"
   ]
  },
  {
   "cell_type": "code",
   "execution_count": 55,
   "metadata": {},
   "outputs": [
    {
     "data": {
      "text/plain": [
       "array([[19,  1,  1],\n",
       "       [ 1, 16,  3],\n",
       "       [ 0,  6,  7]])"
      ]
     },
     "execution_count": 55,
     "metadata": {},
     "output_type": "execute_result"
    }
   ],
   "source": [
    "confusion_matrix(y_test, pred)"
   ]
  },
  {
   "cell_type": "code",
   "execution_count": 56,
   "metadata": {},
   "outputs": [
    {
     "data": {
      "text/plain": [
       "0.7777777777777778"
      ]
     },
     "execution_count": 56,
     "metadata": {},
     "output_type": "execute_result"
    }
   ],
   "source": [
    "accuracy_score(y_test, pred)"
   ]
  },
  {
   "cell_type": "code",
   "execution_count": 57,
   "metadata": {},
   "outputs": [
    {
     "data": {
      "image/png": "[encoded data removed]",
      "text/plain": [
       "<Figure size 432x288 with 1 Axes>"
      ]
     },
     "metadata": {
      "needs_background": "light"
     },
     "output_type": "display_data"
    }
   ],
   "source": [
    "a = clf.kneighbors_graph(X_train)\n",
    "plt.spy(a)\n",
    "plt.show()"
   ]
  },
  {
   "cell_type": "code",
   "execution_count": 77,
   "metadata": {},
   "outputs": [
    {
     "data": {
      "text/plain": [
       "<matplotlib.collections.PathCollection at 0x7fa8878ddbd0>"
      ]
     },
     "execution_count": 77,
     "metadata": {},
     "output_type": "execute_result"
    },
    {
     "data": {
      "image/png": "[encoded data removed]",
      "text/plain": [
       "<Figure size 432x288 with 1 Axes>"
      ]
     },
     "metadata": {
      "needs_background": "light"
     },
     "output_type": "display_data"
    }
   ],
   "source": [
    "plt.scatter(X_train[:,9],y_train)"
   ]
  },
  {
   "cell_type": "code",
   "execution_count": 78,
   "metadata": {},
   "outputs": [],
   "source": [
    "import seaborn as sns"
   ]
  },
  {
   "cell_type": "code",
   "execution_count": 80,
   "metadata": {},
   "outputs": [
    {
     "data": {
      "text/plain": [
       "<matplotlib.axes._subplots.AxesSubplot at 0x7fa88547d210>"
      ]
     },
     "execution_count": 80,
     "metadata": {},
     "output_type": "execute_result"
    },
    {
     "data": {
      "image/png": "[encoded data removed]",
      "text/plain": [
       "<Figure size 432x288 with 2 Axes>"
      ]
     },
     "metadata": {
      "needs_background": "light"
     },
     "output_type": "display_data"
    }
   ],
   "source": [
    "sns.heatmap(X_train, vmin = -1, vmax = 1)"
   ]
  },
  {
   "cell_type": "code",
   "execution_count": 83,
   "metadata": {
    "collapsed": true
   },
   "outputs": [
    {
     "data": {
      "text/plain": [
       "array([[3.24 , 0.76 , 0.45 , 1.25 , 0.55 ],\n",
       "       [1.5  , 2.64 , 0.28 , 1.37 , 1.18 ],\n",
       "       [1.63 , 2.45 , 0.4  , 1.9  , 0.89 ],\n",
       "       [1.77 , 2.94 , 0.34 , 1.45 , 0.92 ],\n",
       "       [4.12 , 0.83 , 0.48 , 1.56 , 0.57 ],\n",
       "       [0.74 , 2.01 , 0.42 , 1.44 , 1.1  ],\n",
       "       [2.89 , 1.32 , 0.43 , 0.95 , 0.96 ],\n",
       "       [2.06 , 1.69 , 0.48 , 1.35 , 1.   ],\n",
       "       [2.96 , 0.6  , 0.53 , 0.81 , 0.89 ],\n",
       "       [2.76 , 0.68 , 0.41 , 1.03 , 0.7  ],\n",
       "       [4.28 , 0.69 , 0.43 , 1.35 , 0.59 ],\n",
       "       [3.3  , 0.83 , 0.61 , 1.87 , 0.56 ],\n",
       "       [2.56 , 0.5  , 0.37 , 0.64 , 0.7  ],\n",
       "       [2.59 , 0.68 , 0.53 , 1.46 , 0.6  ],\n",
       "       [3.9  , 1.39 , 0.34 , 1.14 , 0.57 ],\n",
       "       [1.47 , 1.6  , 0.3  , 1.53 , 0.95 ],\n",
       "       [1.73 , 2.03 , 0.37 , 1.63 , 1.   ],\n",
       "       [1.67 , 1.1  , 0.52 , 2.29 , 0.57 ],\n",
       "       [3.26 , 0.56 , 0.5  , 0.8  , 0.96 ],\n",
       "       [1.83 , 2.69 , 0.42 , 1.97 , 1.23 ],\n",
       "       [3.43 , 1.25 , 0.43 , 0.83 , 0.7  ],\n",
       "       [1.29 , 2.04 , 0.39 , 2.08 , 0.86 ],\n",
       "       [1.17 , 2.   , 0.27 , 1.04 , 1.12 ],\n",
       "       [3.03 , 0.49 , 0.4  , 0.73 , 0.66 ],\n",
       "       [1.48 , 2.43 , 0.26 , 1.57 , 1.17 ],\n",
       "       [1.53 , 1.46 , 0.58 , 1.62 , 0.96 ],\n",
       "       [1.72 , 2.19 , 0.27 , 1.35 , 1.02 ],\n",
       "       [3.45 , 0.7  , 0.4  , 0.94 , 0.68 ],\n",
       "       [3.59 , 0.48 , 0.58 , 0.88 , 0.81 ],\n",
       "       [2.31 , 1.09 , 0.27 , 0.83 , 0.66 ],\n",
       "       [2.15 , 2.51 , 0.31 , 1.25 , 1.06 ],\n",
       "       [1.67 , 2.89 , 0.21 , 1.96 , 1.31 ],\n",
       "       [2.68 , 2.03 , 0.6  , 1.05 , 1.23 ],\n",
       "       [2.13 , 2.24 , 0.58 , 1.76 , 0.97 ],\n",
       "       [1.24 , 0.58 , 0.6  , 1.25 , 0.75 ],\n",
       "       [1.53 , 2.74 , 0.5  , 1.35 , 1.25 ],\n",
       "       [4.1  , 0.76 , 0.56 , 1.35 , 0.61 ],\n",
       "       [3.7  , 0.92 , 0.43 , 1.46 , 0.85 ],\n",
       "       [1.65 , 2.43 , 0.29 , 1.44 , 1.12 ],\n",
       "       [1.86 , 2.88 , 0.27 , 1.69 , 1.11 ],\n",
       "       [1.61 , 1.69 , 0.43 , 1.56 , 1.33 ],\n",
       "       [1.81 , 2.53 , 0.26 , 1.77 , 1.16 ],\n",
       "       [1.87 , 3.64 , 0.29 , 2.96 , 1.2  ],\n",
       "       [1.71 , 3.06 , 0.28 , 2.29 , 1.04 ],\n",
       "       [1.34 , 1.36 , 0.29 , 1.35 , 1.04 ],\n",
       "       [3.55 , 1.2  , 0.17 , 0.84 , 0.78 ],\n",
       "       [1.57 , 3.4  , 0.4  , 1.72 , 1.13 ],\n",
       "       [2.83 , 2.25 , 0.25 , 1.99 , 1.15 ],\n",
       "       [3.91 , 0.75 , 0.43 , 1.41 , 0.7  ],\n",
       "       [1.67 , 2.9  , 0.21 , 1.62 , 0.92 ],\n",
       "       [1.88 , 1.57 , 0.34 , 1.15 , 1.23 ],\n",
       "       [3.59 , 3.17 , 0.27 , 2.19 , 1.04 ],\n",
       "       [1.66 , 3.19 , 0.22 , 1.95 , 1.09 ],\n",
       "       [2.16 , 2.65 , 0.37 , 1.35 , 0.86 ],\n",
       "       [2.58 , 0.84 , 0.39 , 1.54 , 0.74 ],\n",
       "       [0.92 , 2.26 , 0.3  , 1.43 , 1.38 ],\n",
       "       [1.61 , 1.02 , 0.37 , 1.46 , 0.906],\n",
       "       [3.99 , 3.04 , 0.2  , 2.08 , 0.89 ],\n",
       "       [5.51 , 0.6  , 0.63 , 1.1  , 0.82 ],\n",
       "       [4.3  , 1.75 , 0.42 , 1.35 , 0.79 ],\n",
       "       [1.68 , 1.31 , 0.53 , 2.7  , 0.57 ],\n",
       "       [0.9  , 2.03 , 0.24 , 1.46 , 1.19 ],\n",
       "       [5.8  , 2.65 , 0.3  , 2.01 , 0.73 ],\n",
       "       [3.03 , 0.58 , 0.63 , 1.14 , 0.67 ],\n",
       "       [3.87 , 2.55 , 0.43 , 1.95 , 1.19 ],\n",
       "       [3.43 , 1.64 , 0.37 , 1.87 , 0.93 ],\n",
       "       [1.45 , 1.75 , 0.45 , 1.03 , 1.45 ],\n",
       "       [2.4  , 2.79 , 0.32 , 1.83 , 0.8  ],\n",
       "       [2.05 , 5.08 , 0.47 , 1.87 , 0.93 ],\n",
       "       [1.73 , 3.54 , 0.32 , 2.08 , 1.12 ],\n",
       "       [2.99 , 1.22 , 0.24 , 0.83 , 0.74 ],\n",
       "       [1.6  , 2.37 , 0.26 , 1.46 , 1.09 ],\n",
       "       [1.81 , 2.91 , 0.3  , 1.46 , 1.28 ],\n",
       "       [2.46 , 0.66 , 0.63 , 0.94 , 0.73 ],\n",
       "       [1.8  , 2.53 , 0.29 , 1.54 , 1.1  ],\n",
       "       [1.73 , 3.27 , 0.17 , 2.91 , 1.12 ],\n",
       "       [1.19 , 1.28 , 0.14 , 2.5  , 1.28 ],\n",
       "       [4.31 , 3.03 , 0.21 , 2.91 , 0.75 ],\n",
       "       [4.36 , 0.47 , 0.52 , 1.15 , 0.78 ],\n",
       "       [3.84 , 2.68 , 0.27 , 1.48 , 0.91 ],\n",
       "       [3.57 , 0.55 , 0.43 , 1.3  , 0.6  ],\n",
       "       [1.64 , 2.98 , 0.29 , 1.98 , 1.08 ],\n",
       "       [3.37 , 0.66 , 0.4  , 0.97 , 0.72 ],\n",
       "       [1.73 , 2.78 , 0.2  , 2.45 , 0.98 ],\n",
       "       [4.04 , 2.65 , 0.3  , 1.25 , 0.87 ],\n",
       "       [2.12 , 0.99 , 0.14 , 1.56 , 0.95 ],\n",
       "       [3.74 , 2.58 , 0.24 , 3.58 , 0.75 ],\n",
       "       [0.94 , 0.57 , 0.28 , 0.42 , 1.05 ],\n",
       "       [1.51 , 2.86 , 0.21 , 1.87 , 1.36 ],\n",
       "       [1.67 , 1.61 , 0.4  , 1.34 , 1.36 ],\n",
       "       [1.35 , 1.25 , 0.21 , 0.94 , 0.76 ],\n",
       "       [3.86 , 1.59 , 0.61 , 1.62 , 0.84 ],\n",
       "       [1.09 , 2.14 , 0.13 , 1.65 , 0.99 ],\n",
       "       [1.9  , 2.97 , 0.37 , 1.76 , 1.25 ],\n",
       "       [1.75 , 3.74 , 0.32 , 1.87 , 1.01 ],\n",
       "       [1.01 , 3.18 , 0.26 , 2.28 , 1.12 ],\n",
       "       [1.52 , 2.27 , 0.32 , 3.28 , 1.16 ],\n",
       "       [0.94 , 1.3  , 0.55 , 0.42 , 1.02 ],\n",
       "       [5.19 , 0.63 , 0.61 , 1.55 , 0.6  ],\n",
       "       [4.61 , 0.65 , 0.47 , 0.86 , 0.54 ],\n",
       "       [2.45 , 2.11 , 0.34 , 1.31 , 0.8  ],\n",
       "       [1.64 , 2.68 , 0.34 , 1.36 , 1.09 ],\n",
       "       [0.89 , 2.21 , 0.22 , 2.35 , 0.79 ],\n",
       "       [4.95 , 0.8  , 0.47 , 1.02 , 0.91 ],\n",
       "       [1.68 , 2.33 , 0.26 , 1.98 , 1.04 ],\n",
       "       [1.61 , 2.09 , 0.34 , 1.61 , 1.06 ],\n",
       "       [1.75 , 1.76 , 0.48 , 1.63 , 0.88 ],\n",
       "       [3.8  , 2.41 , 0.25 , 1.98 , 1.03 ],\n",
       "       [2.36 , 3.24 , 0.3  , 2.81 , 1.03 ],\n",
       "       [1.51 , 1.25 , 0.5  , 1.63 , 1.05 ],\n",
       "       [1.76 , 3.39 , 0.34 , 1.97 , 1.05 ],\n",
       "       [1.1  , 1.09 , 0.63 , 0.41 , 1.25 ],\n",
       "       [2.67 , 1.36 , 0.24 , 1.26 , 0.48 ],\n",
       "       [1.25 , 1.79 , 0.32 , 0.73 , 1.23 ],\n",
       "       [1.87 , 2.52 , 0.3  , 1.98 , 1.02 ],\n",
       "       [1.65 , 2.99 , 0.22 , 2.29 , 1.24 ],\n",
       "       [2.05 , 2.68 , 0.47 , 1.92 , 1.13 ],\n",
       "       [1.9  , 1.28 , 0.26 , 1.56 , 0.61 ],\n",
       "       [1.81 , 2.61 , 0.28 , 1.66 , 1.12 ],\n",
       "       [2.55 , 1.84 , 0.66 , 1.42 , 0.86 ],\n",
       "       [1.97 , 3.23 , 0.31 , 1.66 , 1.07 ],\n",
       "       [1.36 , 1.41 , 0.53 , 0.62 , 0.98 ],\n",
       "       [1.07 , 3.75 , 0.24 , 1.95 , 1.04 ],\n",
       "       [2.59 , 2.69 , 0.39 , 1.82 , 1.04 ]])"
      ]
     },
     "execution_count": 83,
     "metadata": {},
     "output_type": "execute_result"
    }
   ],
   "source": [
    "X = X_train[:,[1,6,7,8,10]]\n",
    "X"
   ]
  },
  {
   "cell_type": "code",
   "execution_count": 84,
   "metadata": {},
   "outputs": [
    {
     "data": {
      "text/plain": [
       "KNeighborsClassifier(algorithm='auto', leaf_size=30, metric='minkowski',\n",
       "                     metric_params=None, n_jobs=None, n_neighbors=4, p=2,\n",
       "                     weights='uniform')"
      ]
     },
     "execution_count": 84,
     "metadata": {},
     "output_type": "execute_result"
    }
   ],
   "source": [
    "clf = KNeighborsClassifier(n_neighbors = 4)\n",
    "clf.fit(X,y_train)"
   ]
  },
  {
   "cell_type": "code",
   "execution_count": 86,
   "metadata": {},
   "outputs": [
    {
     "data": {
      "text/plain": [
       "array([2, 2, 1, 0, 1, 0, 0, 0, 0, 1, 0, 0, 0, 0, 0, 0, 0, 0, 0, 2, 1, 2,\n",
       "       0, 2, 1, 0, 1, 0, 1, 1, 0, 0, 0, 2, 1, 0, 1, 0, 0, 0, 0, 0, 1, 0,\n",
       "       2, 0, 2, 2, 2, 0, 0, 2, 1, 0])"
      ]
     },
     "execution_count": 86,
     "metadata": {},
     "output_type": "execute_result"
    }
   ],
   "source": [
    "pred = clf.predict(X_test[:,[1,6,7,8,10]])\n",
    "pred"
   ]
  },
  {
   "cell_type": "code",
   "execution_count": 87,
   "metadata": {},
   "outputs": [
    {
     "data": {
      "text/plain": [
       "0.7777777777777778"
      ]
     },
     "execution_count": 87,
     "metadata": {},
     "output_type": "execute_result"
    }
   ],
   "source": [
    "accuracy_score(y_test, pred)"
   ]
  },
  {
   "cell_type": "code",
   "execution_count": null,
   "metadata": {},
   "outputs": [],
   "source": []
  }
 ],
 "metadata": {
  "kernelspec": {
   "display_name": "Python 3",
   "language": "python",
   "name": "python3"
  },
  "language_info": {
   "codemirror_mode": {
    "name": "ipython",
    "version": 3
   },
   "file_extension": ".py",
   "mimetype": "text/x-python",
   "name": "python",
   "nbconvert_exporter": "python",
   "pygments_lexer": "ipython3",
   "version": "3.7.4"
  }
 },
 "nbformat": 4,
 "nbformat_minor": 2
}
