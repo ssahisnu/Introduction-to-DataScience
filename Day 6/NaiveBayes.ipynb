{ 
 "cells": [
  {
   "cell_type": "code",
   "execution_count": 1,
   "metadata": {},
   "outputs": [],
   "source": [
    "import os\n",
    "import io\n",
    "import numpy as np\n",
    "from pandas import DataFrame\n",
    "from sklearn.feature_extraction.text import CountVectorizer\n",
    "from sklearn.naive_bayes import MultinomialNB"
   ]
  },
  {
   "cell_type": "code",
   "execution_count": 2,
   "metadata": {},
   "outputs": [],
   "source": [
    "def readfile(path):\n",
    "    for root,dirname,fil in os.walk(path):\n",
    "        for file in fil:\n",
    "            path = os.path.join(root,file)\n",
    "            inBody = False\n",
    "            lines = []\n",
    "            f = io.open(path,'r',encoding='latin1')\n",
    "            for line in f:\n",
    "                if inBody:\n",
    "                    lines.append(line)\n",
    "                elif line=='\\n':\n",
    "                    inBody = True\n",
    "            f.close()               \n",
    "            message = '\\n'.join(lines)\n",
    "            yield path, message   "
   ]
  },
  {
   "cell_type": "code",
   "execution_count": 3,
   "metadata": {},
   "outputs": [],
   "source": [
    "def dataframefromdir(path,classification):\n",
    "    rows = []\n",
    "    index = []\n",
    "    for file, message in readfile(path):\n",
    "        rows.append({'Message':message,'Class':classification})\n",
    "        index.append(file)\n",
    "    return DataFrame(rows,index=index)"
   ]
  },
  {
   "cell_type": "code",
   "execution_count": 4,
   "metadata": {},
   "outputs": [
    {
     "data": {
      "text/html": [
       "<div>\n",
       "<style scoped>\n",
       "    .dataframe tbody tr th:only-of-type {\n",
       "        vertical-align: middle;\n",
       "    }\n",
       "\n",
       "    .dataframe tbody tr th {\n",
       "        vertical-align: top;\n",
       "    }\n",
       "\n",
       "    .dataframe thead th {\n",
       "        text-align: right;\n",
       "    }\n",
       "</style>\n",
       "<table border=\"1\" class=\"dataframe\">\n",
       "  <thead>\n",
       "    <tr style=\"text-align: right;\">\n",
       "      <th></th>\n",
       "      <th>Message</th>\n",
       "      <th>Class</th>\n",
       "    </tr>\n",
       "  </thead>\n",
       "  <tbody>\n",
       "    <tr>\n",
       "      <td>/home/vkmanojk/Python/100DaysofDataScience/Day 6/emails/spam/00193.c04ef77bc3dbaa5762760a6ea138df0e</td>\n",
       "      <td>Greetings! \\n\\n\\n\\nYou are receiving this lett...</td>\n",
       "      <td>spam</td>\n",
       "    </tr>\n",
       "    <tr>\n",
       "      <td>/home/vkmanojk/Python/100DaysofDataScience/Day 6/emails/spam/00267.ef433fb350170f28a1567cbc24900e53</td>\n",
       "      <td>ATTN:\\n\\n\\n\\nI am Edward Mulete JR. the son of...</td>\n",
       "      <td>spam</td>\n",
       "    </tr>\n",
       "    <tr>\n",
       "      <td>/home/vkmanojk/Python/100DaysofDataScience/Day 6/emails/spam/00033.9babb58d9298daa2963d4f514193d7d6</td>\n",
       "      <td>This is the bottom line.  If you can GIVE AWAY...</td>\n",
       "      <td>spam</td>\n",
       "    </tr>\n",
       "    <tr>\n",
       "      <td>/home/vkmanojk/Python/100DaysofDataScience/Day 6/emails/spam/00165.45db168e8e1a78a66972b9f50c47b6dc</td>\n",
       "      <td>&lt;FONT SIZE=1 COLOR=\"000000\"&gt;To be removed plea...</td>\n",
       "      <td>spam</td>\n",
       "    </tr>\n",
       "    <tr>\n",
       "      <td>/home/vkmanojk/Python/100DaysofDataScience/Day 6/emails/spam/00085.f63a9484ac582233db057dbb45dc0eaf</td>\n",
       "      <td>HELLO...By reading the short Summary just belo...</td>\n",
       "      <td>spam</td>\n",
       "    </tr>\n",
       "  </tbody>\n",
       "</table>\n",
       "</div>"
      ],
      "text/plain": [
       "                                                                                              Message  \\\n",
       "/home/vkmanojk/Python/100DaysofDataScience/Day ...  Greetings! \\n\\n\\n\\nYou are receiving this lett...   \n",
       "/home/vkmanojk/Python/100DaysofDataScience/Day ...  ATTN:\\n\\n\\n\\nI am Edward Mulete JR. the son of...   \n",
       "/home/vkmanojk/Python/100DaysofDataScience/Day ...  This is the bottom line.  If you can GIVE AWAY...   \n",
       "/home/vkmanojk/Python/100DaysofDataScience/Day ...  <FONT SIZE=1 COLOR=\"000000\">To be removed plea...   \n",
       "/home/vkmanojk/Python/100DaysofDataScience/Day ...  HELLO...By reading the short Summary just belo...   \n",
       "\n",
       "                                                   Class  \n",
       "/home/vkmanojk/Python/100DaysofDataScience/Day ...  spam  \n",
       "/home/vkmanojk/Python/100DaysofDataScience/Day ...  spam  \n",
       "/home/vkmanojk/Python/100DaysofDataScience/Day ...  spam  \n",
       "/home/vkmanojk/Python/100DaysofDataScience/Day ...  spam  \n",
       "/home/vkmanojk/Python/100DaysofDataScience/Day ...  spam  "
      ]
     },
     "execution_count": 4,
     "metadata": {},
     "output_type": "execute_result"
    }
   ],
   "source": [
    "data = DataFrame({'Message':[],'Class':[]})\n",
    "data = data.append(dataframefromdir('/home/vkmanojk/Python/100DaysofDataScience/Day 6/emails/spam','spam'))\n",
    "data = data.append(dataframefromdir('/home/vkmanojk/Python/100DaysofDataScience/Day 6/emails/ham','ham'))\n",
    "data.head()"
   ]
  },
  {
   "cell_type": "code",
   "execution_count": 5,
   "metadata": {},
   "outputs": [
    {
     "data": {
      "text/plain": [
       "MultinomialNB(alpha=1.0, class_prior=None, fit_prior=True)"
      ]
     },
     "execution_count": 5,
     "metadata": {},
     "output_type": "execute_result"
    }
   ],
   "source": [
    "vectorizer = CountVectorizer()\n",
    "counts = vectorizer.fit_transform(data['Message'].values)\n",
    "#print(counts)\n",
    "classifier = MultinomialNB()\n",
    "targets = data['Class'].values\n",
    "classifier.fit(counts,targets)"
   ]
  },
  {
   "cell_type": "code",
   "execution_count": 6,
   "metadata": {},
   "outputs": [
    {
     "data": {
      "text/plain": [
       "array(['spam', 'ham'], dtype='<U4')"
      ]
     },
     "execution_count": 6,
     "metadata": {},
     "output_type": "execute_result"
    }
   ],
   "source": [
    "example = [\"Free ! Free ! Offer !You have a free discount of 50% in the upcoming sale\",'How you doing dude ?']\n",
    "excounts = vectorizer.transform(example)\n",
    "prediction = classifier.predict(excounts)\n",
    "prediction"
   ]
  },
  {
   "cell_type": "code",
   "execution_count": null,
   "metadata": {},
   "outputs": [],
   "source": []
  }
 ],
 "metadata": {
  "kernelspec": {
   "display_name": "Python 3",
   "language": "python",
   "name": "python3"
  },
  "language_info": {
   "codemirror_mode": {
    "name": "ipython",
    "version": 3
   },
   "file_extension": ".py",
   "mimetype": "text/x-python",
   "name": "python",
   "nbconvert_exporter": "python",
   "pygments_lexer": "ipython3",
   "version": "3.7.4"
  }
 },
 "nbformat": 4,
 "nbformat_minor": 2
}
