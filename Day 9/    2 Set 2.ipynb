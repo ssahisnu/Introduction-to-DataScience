{
 "cells": [
  {
   "cell_type": "markdown",
   "metadata": {},
   "source": [
    "## Open Lab Assignment 2 Set 2\n",
    "\n",
    "### Name: MANOJKUMAR VK\n",
    "### Roll Number: CB.EN.U4CSE17040\n",
    "\n",
    "## Note: I have referred online resources for solutions and I have implemented only after complete understanding"
   ]
  },
  {
   "cell_type": "markdown",
   "metadata": {},
   "source": [
    "### Q1"
   ]
  },
  {
   "cell_type": "code",
   "execution_count": 4,
   "metadata": {
    "ExecuteTime": {
     "end_time": "2019-11-17T04:41:19.234545Z",
     "start_time": "2019-11-17T04:41:10.469457Z"
    }
   },
   "outputs": [
    {
     "name": "stdout",
     "output_type": "stream",
     "text": [
      "1\n",
      "abracadabra\n",
      "5\n"
     ]
    }
   ],
   "source": [
    "def vowelCount(words):\n",
    "        vowels = list(\"aeiouy\")\n",
    "        answer = []\n",
    "        for x in range(words):\n",
    "                phraseCount = input().lower()\n",
    "                phraseCount = sum(phraseCount.count(c) for c in vowels)\n",
    "                answer.append(str(phraseCount))\n",
    "        print(' '.join(answer))\n",
    "vowelCount(int(input()))"
   ]
  },
  {
   "cell_type": "markdown",
   "metadata": {},
   "source": [
    "#### Q2"
   ]
  },
  {
   "cell_type": "code",
   "execution_count": null,
   "metadata": {},
   "outputs": [],
   "source": [
    "ls = map(int, ARR_STR.split())\n",
    "bin_ls = []\n",
    "\n",
    "for i in ls:\n",
    "    bin_form = str(bin(i))[2:].zfill(8)\n",
    "    if bin_form.count(\"1\") % 2 == 0:\n",
    "        if bin_form[0] == \"1\":\n",
    "            new_bin_form = \"0\" + bin_form[1:]\n",
    "            bin_ls.append(new_bin_form)\n",
    "        else:\n",
    "            bin_ls.append(bin_form)\n",
    "\n",
    "print(bin_ls)\n",
    "for i in bin_ls:\n",
    "    print(chr(int(i, 2)), end=\"\")"
   ]
  },
  {
   "cell_type": "markdown",
   "metadata": {},
   "source": [
    "#### Q3"
   ]
  },
  {
   "cell_type": "code",
   "execution_count": null,
   "metadata": {},
   "outputs": [],
   "source": [
    "deskabc={\"a\":1,\"b\":2,\"c\":3,\"d\":4,\"e\":5,\"f\":6,\"g\":7,\"h\":8};\n",
    "l=int(input())\n",
    "for i in range(l):\n",
    "    q,k=[list(x) for x in input().split()]\n",
    "    q[0],k[0]=deskabc[q[0]],deskabc[k[0]]\n",
    "    q[1],k[1]=int(q[1]),int(k[1])\n",
    "    print (\"Y\" if q[0] == k[0] or q[1] == k[1] or abs(q[1]-k[1]) == abs(q[0]-k[0]) else \"N\")"
   ]
  }
 ],
 "metadata": {
  "kernelspec": {
   "display_name": "Python 3",
   "language": "python",
   "name": "python3"
  },
  "language_info": {
   "codemirror_mode": {
    "name": "ipython",
    "version": 3
   },
   "file_extension": ".py",
   "mimetype": "text/x-python",
   "name": "python",
   "nbconvert_exporter": "python",
   "pygments_lexer": "ipython3",
   "version": "3.7.4"
  },
  "varInspector": {
   "cols": {
    "lenName": 16,
    "lenType": 16,
    "lenVar": 40
   },
   "kernels_config": {
    "python": {
     "delete_cmd_postfix": "",
     "delete_cmd_prefix": "del ",
     "library": "var_list.py",
     "varRefreshCmd": "print(var_dic_list())"
    },
    "r": {
     "delete_cmd_postfix": ") ",
     "delete_cmd_prefix": "rm(",
     "library": "var_list.r",
     "varRefreshCmd": "cat(var_dic_list()) "
    }
   },
   "types_to_exclude": [
    "module",
    "function",
    "builtin_function_or_method",
    "instance",
    "_Feature"
   ],
   "window_display": false
  }
 },
 "nbformat": 4,
 "nbformat_minor": 2
}
