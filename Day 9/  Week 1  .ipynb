{
 "cells": [
  {
   "cell_type": "markdown",
   "metadata": {},
   "source": [
    "## Open Lab Week 1 Assignment\n",
    "### Name: MANOJKUMAR VK\n",
    "### Roll Number: CB.EN.U4CSE17040"
   ]
  },
  {
   "cell_type": "markdown",
   "metadata": {},
   "source": [
    "#### Q1"
   ]
  },
  {
   "cell_type": "code",
   "execution_count": 18,
   "metadata": {
    "ExecuteTime": {
     "end_time": "2019-11-16T15:52:13.836117Z",
     "start_time": "2019-11-16T15:52:08.374168Z"
    }
   },
   "outputs": [
    {
     "name": "stdout",
     "output_type": "stream",
     "text": [
      "abccsd nebfkjef\n"
     ]
    },
    {
     "data": {
      "text/plain": [
       "'ABCCSD NEBFKJEF'"
      ]
     },
     "execution_count": 18,
     "metadata": {},
     "output_type": "execute_result"
    }
   ],
   "source": [
    "def caps(s):\n",
    "    return s.upper()\n",
    "s = input()\n",
    "caps(s)"
   ]
  },
  {
   "cell_type": "markdown",
   "metadata": {},
   "source": [
    "#### Q2"
   ]
  },
  {
   "cell_type": "code",
   "execution_count": 21,
   "metadata": {
    "ExecuteTime": {
     "end_time": "2019-11-16T16:03:13.394842Z",
     "start_time": "2019-11-16T16:02:59.470439Z"
    }
   },
   "outputs": [
    {
     "name": "stdout",
     "output_type": "stream",
     "text": [
      "Menu\n",
      "Enter Details(1)\n",
      "Search(2)\n",
      "Quit(3)\n",
      "1\n",
      "Enter Mobile Number 1\n",
      "Enter Your Name a\n",
      "Menu\n",
      "Enter Details(1)\n",
      "Search(2)\n",
      "Quit(3)\n",
      "2\n",
      "Enter Phone Number to Search 1\n",
      "User :  a\n",
      "Menu\n",
      "Enter Details(1)\n",
      "Search(2)\n",
      "Quit(3)\n",
      "3\n"
     ]
    }
   ],
   "source": [
    "status = True\n",
    "phbook = {}\n",
    "while(status):\n",
    "    print(\"Menu\")\n",
    "    print(\"Enter Details(1)\")\n",
    "    print(\"Search(2)\")\n",
    "    print(\"Quit(3)\")\n",
    "    inp = int(input())\n",
    "    if inp==1:\n",
    "        m = input(\"Enter Mobile Number \")\n",
    "        n = input(\"Enter Your Name \")\n",
    "        if(m and n):\n",
    "            phbook[m] = n\n",
    "        else:\n",
    "            print(\"Enter valid details\")\n",
    "    elif inp==2:\n",
    "        s = input(\"Enter Phone Number to Search \")\n",
    "        op = phbook[s]\n",
    "        if(op):\n",
    "            print(\"User : \",op)\n",
    "        else:\n",
    "            print(\"No such user exist\")\n",
    "    elif inp==3:\n",
    "        status = False"
   ]
  },
  {
   "cell_type": "markdown",
   "metadata": {},
   "source": [
    "#### Q3"
   ]
  },
  {
   "cell_type": "code",
   "execution_count": 3,
   "metadata": {
    "ExecuteTime": {
     "end_time": "2019-11-16T16:05:27.282519Z",
     "start_time": "2019-11-16T16:05:17.798588Z"
    }
   },
   "outputs": [
    {
     "name": "stdout",
     "output_type": "stream",
     "text": [
      "1 2 3 4 4 2 1 3 \n",
      "List without duplicate elements {'2', '1', '4', '3'}\n"
     ]
    }
   ],
   "source": [
    "l = list(map(str,input().split()))\n",
    "final = set(l)\n",
    "print(\"List without duplicate elements\",final)"
   ]
  },
  {
   "cell_type": "markdown",
   "metadata": {},
   "source": [
    "#### Q4"
   ]
  },
  {
   "cell_type": "code",
   "execution_count": 31,
   "metadata": {
    "ExecuteTime": {
     "end_time": "2019-11-16T16:09:21.806052Z",
     "start_time": "2019-11-16T16:09:18.596572Z"
    }
   },
   "outputs": [
    {
     "name": "stdout",
     "output_type": "stream",
     "text": [
      "asw WWW\n",
      "Upper: 3 Lower: 3\n"
     ]
    }
   ],
   "source": [
    "def counter(s):\n",
    "    u = l = 0\n",
    "    for x in s:\n",
    "        if(x.islower()):\n",
    "            l += 1\n",
    "        elif(x.isupper()):\n",
    "            u += 1\n",
    "    return u,l\n",
    "s = input()\n",
    "u,l = counter(s)\n",
    "print(\"Upper: \"+str(u)+\" Lower: \"+str(l))"
   ]
  },
  {
   "cell_type": "markdown",
   "metadata": {},
   "source": [
    "#### Q5"
   ]
  },
  {
   "cell_type": "code",
   "execution_count": 34,
   "metadata": {
    "ExecuteTime": {
     "end_time": "2019-11-16T16:11:14.842142Z",
     "start_time": "2019-11-16T16:11:10.062581Z"
    }
   },
   "outputs": [
    {
     "name": "stdout",
     "output_type": "stream",
     "text": [
      "abc\n",
      "abcd\n",
      "Common Characters are:  {'a', 'b', 'c'}\n"
     ]
    }
   ],
   "source": [
    "s1 = input(\"Enter string 1\")\n",
    "s2 = input(\"Enter string 2\")\n",
    "\n",
    "s1 = set(s1)\n",
    "s2 = set(s2)\n",
    "\n",
    "s = s1.intersection(s2)\n",
    "print(\"Common Characters are: \",s)"
   ]
  },
  {
   "cell_type": "markdown",
   "metadata": {},
   "source": [
    "#### Q6"
   ]
  },
  {
   "cell_type": "code",
   "execution_count": 6,
   "metadata": {
    "ExecuteTime": {
     "end_time": "2019-11-16T16:15:15.920347Z",
     "start_time": "2019-11-16T16:15:07.160680Z"
    }
   },
   "outputs": [
    {
     "name": "stdout",
     "output_type": "stream",
     "text": [
      "Enter string 1 abc\n",
      "Enter string 2 cba\n",
      "Anagram\n"
     ]
    }
   ],
   "source": [
    "s1 = input(\"Enter string 1 \")\n",
    "s2 = input(\"Enter string 2 \")\n",
    "\n",
    "s1 = [x for x in s1]\n",
    "s2 = [x for x in s2]\n",
    "s1.sort()\n",
    "s2.sort()\n",
    "\n",
    "s1 = ''.join(s1)\n",
    "s2 = ''.join(s2)\n",
    "if(s1==s2):\n",
    "    print(\"Anagram\")\n",
    "else:\n",
    "    print(\"Not an Anagram\")"
   ]
  },
  {
   "cell_type": "markdown",
   "metadata": {},
   "source": [
    "#### Q7"
   ]
  },
  {
   "cell_type": "code",
   "execution_count": 39,
   "metadata": {
    "ExecuteTime": {
     "end_time": "2019-11-16T16:17:35.036392Z",
     "start_time": "2019-11-16T16:17:33.400407Z"
    }
   },
   "outputs": [
    {
     "name": "stdout",
     "output_type": "stream",
     "text": [
      "Enter n 5\n",
      "Final List:  [[0, 0], [1, 1], [2, 4], [3, 9], [4, 16]]\n"
     ]
    }
   ],
   "source": [
    "a = []\n",
    "n = int(input(\"Enter n \"))\n",
    "for i in range(n):\n",
    "    a.append([i,i**2])\n",
    "print(\"Final List: \",a)"
   ]
  },
  {
   "cell_type": "markdown",
   "metadata": {},
   "source": [
    "#### Q8"
   ]
  },
  {
   "cell_type": "code",
   "execution_count": 61,
   "metadata": {
    "ExecuteTime": {
     "end_time": "2019-11-16T16:39:49.648111Z",
     "start_time": "2019-11-16T16:39:49.635146Z"
    }
   },
   "outputs": [
    {
     "name": "stdout",
     "output_type": "stream",
     "text": [
      "{'it': 2, 'was': 2, 'best': 1, 'times': 2, 'worst': 1}\n"
     ]
    }
   ],
   "source": [
    "stop = ['is', 'an', 'the', 'for', 'be', 'to', 'in', 'are', 'and', 'has', 'from', 'i', 'am', 'of', 'then', 'if', 'do', 'with', 'at', 'a', 'or', 'as']\n",
    "wfreq = {}\n",
    "with open('./data.txt','r') as f:\n",
    "    data = f.read()\n",
    "    data = data.split('\\n')\n",
    "    data = ' '.join(data)\n",
    "    wlist = data.split()\n",
    "    for w in wlist:\n",
    "        if(w not in stop):\n",
    "            wfreq[w] = wlist.count(w)\n",
    "    f.close()\n",
    "print(wfreq)"
   ]
  },
  {
   "cell_type": "markdown",
   "metadata": {},
   "source": [
    "#### Q9"
   ]
  },
  {
   "cell_type": "code",
   "execution_count": 74,
   "metadata": {
    "ExecuteTime": {
     "end_time": "2019-11-16T16:55:56.270159Z",
     "start_time": "2019-11-16T16:55:45.503706Z"
    }
   },
   "outputs": [
    {
     "name": "stdout",
     "output_type": "stream",
     "text": [
      "Enter Username abc123\n",
      "Enter Password abc@1ABC\n",
      "Username and Password are valid\n"
     ]
    }
   ],
   "source": [
    "import re\n",
    "uname = input(\"Enter Username \")\n",
    "pwd= input(\"Enter Password \")\n",
    "\n",
    "if(uname.isalnum()):\n",
    "    if(len(pwd)==8):\n",
    "        if re.search(\"[a-z]\", pwd):\n",
    "            if re.search(\"[A-Z]\", pwd):\n",
    "                if re.search(\"[0-9]\", pwd):\n",
    "                    if re.search(\"[_@$]\", pwd):\n",
    "                        print(\"Username and Password are valid\")\n",
    "                    else:\n",
    "                        print(\"Password is invalid1\")\n",
    "                else:\n",
    "                    print(\"Password is invalid2\")\n",
    "            else:\n",
    "                print(\"Password is invalid3\")\n",
    "        else:\n",
    "            print(\"Password is invalid4\")\n",
    "    else:\n",
    "        print(\"Password is invalid5\")\n",
    "else:\n",
    "    print(\"Username is invalid\")"
   ]
  },
  {
   "cell_type": "markdown",
   "metadata": {},
   "source": [
    "#### Q10"
   ]
  },
  {
   "cell_type": "code",
   "execution_count": 7,
   "metadata": {
    "ExecuteTime": {
     "end_time": "2019-11-16T16:58:40.603242Z",
     "start_time": "2019-11-16T16:58:32.919420Z"
    }
   },
   "outputs": [
    {
     "name": "stdout",
     "output_type": "stream",
     "text": [
      "Enter Names ABD CJDB\n",
      "['ABD', 'CJDB']\n",
      "Enter Character A\n",
      "ABD\n"
     ]
    }
   ],
   "source": [
    "names = list(map(str,input(\"Enter Names \").split()))\n",
    "print(names)\n",
    "ch = input(\"Enter Character \")\n",
    "for name in names:\n",
    "    if(name[0]==ch):\n",
    "        print(name)"
   ]
  },
  {
   "cell_type": "markdown",
   "metadata": {},
   "source": [
    "#### Q11"
   ]
  },
  {
   "cell_type": "code",
   "execution_count": null,
   "metadata": {
    "ExecuteTime": {
     "end_time": "2019-11-16T16:26:51.378981Z",
     "start_time": "2019-11-16T16:26:48.305803Z"
    }
   },
   "outputs": [],
   "source": [
    "sent = input(\"Enter a sentence \")\n",
    "l = [x for x in sent]\n",
    "ans = ''\n",
    "for x in l:\n",
    "    if((x.isalnum())):\n",
    "        ans += x\n",
    "\n",
    "print(ans)"
   ]
  },
  {
   "cell_type": "code",
   "execution_count": null,
   "metadata": {},
   "outputs": [],
   "source": []
  }
 ],
 "metadata": {
  "kernelspec": {
   "display_name": "Python 3",
   "language": "python",
   "name": "python3"
  },
  "language_info": {
   "codemirror_mode": {
    "name": "ipython",
    "version": 3
   },
   "file_extension": ".py",
   "mimetype": "text/x-python",
   "name": "python",
   "nbconvert_exporter": "python",
   "pygments_lexer": "ipython3",
   "version": "3.7.4"
  },
  "latex_envs": {
   "LaTeX_envs_menu_present": true,
   "autoclose": false,
   "autocomplete": true,
   "bibliofile": "biblio.bib",
   "cite_by": "apalike",
   "current_citInitial": 1,
   "eqLabelWithNumbers": true,
   "eqNumInitial": 1,
   "hotkeys": {
    "equation": "Ctrl-E",
    "itemize": "Ctrl-I"
   },
   "labels_anchors": false,
   "latex_user_defs": false,
   "report_style_numbering": false,
   "user_envs_cfg": false
  },
  "varInspector": {
   "cols": {
    "lenName": 16,
    "lenType": 16,
    "lenVar": 40
   },
   "kernels_config": {
    "python": {
     "delete_cmd_postfix": "",
     "delete_cmd_prefix": "del ",
     "library": "var_list.py",
     "varRefreshCmd": "print(var_dic_list())"
    },
    "r": {
     "delete_cmd_postfix": ") ",
     "delete_cmd_prefix": "rm(",
     "library": "var_list.r",
     "varRefreshCmd": "cat(var_dic_list()) "
    }
   },
   "types_to_exclude": [
    "module",
    "function",
    "builtin_function_or_method",
    "instance",
    "_Feature"
   ],
   "window_display": false
  }
 },
 "nbformat": 4,
 "nbformat_minor": 2
}
