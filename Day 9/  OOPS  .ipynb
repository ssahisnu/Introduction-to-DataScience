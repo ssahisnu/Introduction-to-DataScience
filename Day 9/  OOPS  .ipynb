{
 "cells": [
  {
   "cell_type": "markdown",
   "metadata": {},
   "source": [
    "## Python OOPS Assignment\n",
    "### Name: MANOJKUMAR VK\n",
    "### Roll Number: CB.EN.U4CSE17040"
   ]
  },
  {
   "cell_type": "markdown",
   "metadata": {},
   "source": [
    "## Class\n",
    "#### Q1"
   ]
  },
  {
   "cell_type": "code",
   "execution_count": 2,
   "metadata": {
    "ExecuteTime": {
     "end_time": "2019-11-17T02:11:37.439528Z",
     "start_time": "2019-11-17T02:11:37.416974Z"
    }
   },
   "outputs": [],
   "source": [
    "class integer_to_roman:\n",
    "    \n",
    "    def __init__(self,):\n",
    "        self.value = [\n",
    "            1000, 900, 500, 400,\n",
    "            100, 90, 50, 40,\n",
    "            10, 9, 5, 4,\n",
    "            1\n",
    "            ]\n",
    "        self.symbol = [\n",
    "            \"M\", \"CM\", \"D\", \"CD\",\n",
    "            \"C\", \"XC\", \"L\", \"XL\",\n",
    "            \"X\", \"IX\", \"V\", \"IV\",\n",
    "            \"I\"\n",
    "            ]\n",
    "        self.roman_num = ''\n",
    "    \n",
    "    def convert(self,num):\n",
    "        i = 0\n",
    "        while(num>0):\n",
    "            for _ in range(num // self.value[i]):\n",
    "                self.roman_num += self.symbol[i]\n",
    "                num -= self.value[i]\n",
    "            i +=1\n",
    "        \n",
    "        return self.roman_num"
   ]
  },
  {
   "cell_type": "code",
   "execution_count": 3,
   "metadata": {
    "ExecuteTime": {
     "end_time": "2019-11-17T02:11:37.556893Z",
     "start_time": "2019-11-17T02:11:37.445711Z"
    }
   },
   "outputs": [],
   "source": [
    "Converter = integer_to_roman()"
   ]
  },
  {
   "cell_type": "code",
   "execution_count": 4,
   "metadata": {
    "ExecuteTime": {
     "end_time": "2019-11-17T02:11:37.670908Z",
     "start_time": "2019-11-17T02:11:37.563859Z"
    }
   },
   "outputs": [
    {
     "name": "stdout",
     "output_type": "stream",
     "text": [
      "MMM\n"
     ]
    }
   ],
   "source": [
    "print(Converter.convert(3000))"
   ]
  },
  {
   "cell_type": "markdown",
   "metadata": {},
   "source": [
    "#### Q2"
   ]
  },
  {
   "cell_type": "code",
   "execution_count": 10,
   "metadata": {
    "ExecuteTime": {
     "end_time": "2019-11-17T02:55:29.607500Z",
     "start_time": "2019-11-17T02:55:29.591929Z"
    }
   },
   "outputs": [],
   "source": [
    "class roman_to_int:\n",
    "    \n",
    "    def __init__(self,):\n",
    "        self.roman_val = {'I': 1, 'V': 5, 'X': 10, 'L': 50, 'C': 100, 'D': 500, 'M': 1000}\n",
    "        self.int_val = 0\n",
    "    def convert(self,rom):\n",
    "        self.int_val = 0\n",
    "        for i in range(len(rom)):\n",
    "            if(i>0 and self.roman_val[rom[i]] > self.roman_val[rom[i - 1]]):\n",
    "                self.int_val += self.roman_val[rom[i]] - 2 * self.roman_val[rom[i - 1]]\n",
    "            else:\n",
    "                self.int_val += self.roman_val[rom[i]]\n",
    "        return self.int_val"
   ]
  },
  {
   "cell_type": "code",
   "execution_count": 11,
   "metadata": {
    "ExecuteTime": {
     "end_time": "2019-11-17T02:55:30.182314Z",
     "start_time": "2019-11-17T02:55:30.174123Z"
    }
   },
   "outputs": [],
   "source": [
    "Converter = roman_to_int()"
   ]
  },
  {
   "cell_type": "code",
   "execution_count": 14,
   "metadata": {
    "ExecuteTime": {
     "end_time": "2019-11-17T02:55:39.700709Z",
     "start_time": "2019-11-17T02:55:39.692676Z"
    }
   },
   "outputs": [
    {
     "name": "stdout",
     "output_type": "stream",
     "text": [
      "1500\n"
     ]
    }
   ],
   "source": [
    "print(Converter.convert('MD'))"
   ]
  },
  {
   "cell_type": "markdown",
   "metadata": {},
   "source": [
    "#### Q3"
   ]
  },
  {
   "cell_type": "code",
   "execution_count": 21,
   "metadata": {
    "ExecuteTime": {
     "end_time": "2019-11-17T03:02:36.106943Z",
     "start_time": "2019-11-17T03:02:36.094074Z"
    }
   },
   "outputs": [],
   "source": [
    "class validator:\n",
    "    \n",
    "    def __init__(self,):\n",
    "        self.stack, self.pchar = [], {\"(\": \")\", \"{\": \"}\", \"[\": \"]\"}\n",
    "    \n",
    "    def validate(self,s):\n",
    "        for paranthese in s:\n",
    "            if paranthese in self.pchar:\n",
    "                self.stack.append(paranthese)\n",
    "            elif (len(self.stack) == 0 or self.pchar[self.stack.pop()] != paranthese):\n",
    "                return False\n",
    "        return len(self.stack) == 0              "
   ]
  },
  {
   "cell_type": "code",
   "execution_count": 22,
   "metadata": {
    "ExecuteTime": {
     "end_time": "2019-11-17T03:02:36.564443Z",
     "start_time": "2019-11-17T03:02:36.556085Z"
    }
   },
   "outputs": [],
   "source": [
    "v = validator()"
   ]
  },
  {
   "cell_type": "code",
   "execution_count": 25,
   "metadata": {
    "ExecuteTime": {
     "end_time": "2019-11-17T03:02:44.278615Z",
     "start_time": "2019-11-17T03:02:44.269316Z"
    }
   },
   "outputs": [
    {
     "name": "stdout",
     "output_type": "stream",
     "text": [
      "False\n"
     ]
    }
   ],
   "source": [
    "print(v.validate('(){}[]'))"
   ]
  },
  {
   "cell_type": "markdown",
   "metadata": {},
   "source": [
    "#### Q4"
   ]
  },
  {
   "cell_type": "code",
   "execution_count": 26,
   "metadata": {
    "ExecuteTime": {
     "end_time": "2019-11-17T03:07:15.271863Z",
     "start_time": "2019-11-17T03:07:15.258051Z"
    }
   },
   "outputs": [],
   "source": [
    "class SubsetGenerator:\n",
    "    def sub_sets(self, s):\n",
    "        return self.subsetsRecur([], sorted(s))\n",
    "    \n",
    "    def subsetsRecur(self, current, s):\n",
    "        if s:\n",
    "            return self.subsetsRecur(current, s[1:]) + self.subsetsRecur(current + [s[0]], s[1:])\n",
    "        return [current]"
   ]
  },
  {
   "cell_type": "code",
   "execution_count": 27,
   "metadata": {
    "ExecuteTime": {
     "end_time": "2019-11-17T03:07:31.878541Z",
     "start_time": "2019-11-17T03:07:31.872040Z"
    }
   },
   "outputs": [],
   "source": [
    "subset = SubsetGenerator()"
   ]
  },
  {
   "cell_type": "code",
   "execution_count": 28,
   "metadata": {
    "ExecuteTime": {
     "end_time": "2019-11-17T03:08:02.626718Z",
     "start_time": "2019-11-17T03:08:02.615105Z"
    }
   },
   "outputs": [
    {
     "name": "stdout",
     "output_type": "stream",
     "text": [
      "[[], [4], [3], [3, 4], [2], [2, 4], [2, 3], [2, 3, 4], [1], [1, 4], [1, 3], [1, 3, 4], [1, 2], [1, 2, 4], [1, 2, 3], [1, 2, 3, 4]]\n"
     ]
    }
   ],
   "source": [
    "print(subset.sub_sets([1,2,3,4]))"
   ]
  },
  {
   "cell_type": "markdown",
   "metadata": {},
   "source": [
    "#### Q5"
   ]
  },
  {
   "cell_type": "code",
   "execution_count": 30,
   "metadata": {
    "ExecuteTime": {
     "end_time": "2019-11-17T03:11:21.155773Z",
     "start_time": "2019-11-17T03:11:21.145677Z"
    }
   },
   "outputs": [],
   "source": [
    "class twoSum:\n",
    "    def twoSum(self, nums, target):\n",
    "        lookup = {}\n",
    "        for i, num in enumerate(nums):\n",
    "            if target - num in lookup:\n",
    "                return (lookup[target - num], i )\n",
    "            lookup[num] = i"
   ]
  },
  {
   "cell_type": "code",
   "execution_count": 34,
   "metadata": {
    "ExecuteTime": {
     "end_time": "2019-11-17T03:12:15.330560Z",
     "start_time": "2019-11-17T03:12:15.321584Z"
    }
   },
   "outputs": [
    {
     "name": "stdout",
     "output_type": "stream",
     "text": [
      "index1=3, index2=5\n"
     ]
    }
   ],
   "source": [
    "print(\"index1=%d, index2=%d\" % twoSum().twoSum((5,10,40,350,100,650,700),1000))"
   ]
  },
  {
   "cell_type": "markdown",
   "metadata": {},
   "source": [
    "#### Q6"
   ]
  },
  {
   "cell_type": "code",
   "execution_count": 35,
   "metadata": {
    "ExecuteTime": {
     "end_time": "2019-11-17T03:13:34.102894Z",
     "start_time": "2019-11-17T03:13:34.085305Z"
    }
   },
   "outputs": [],
   "source": [
    "class threeSumZero:\n",
    "    def threeSumZero(self, nums):\n",
    "        nums, result, i = sorted(nums), [], 0\n",
    "        while i < len(nums) - 2:\n",
    "            j, k = i + 1, len(nums) - 1\n",
    "            while j < k:\n",
    "                if nums[i] + nums[j] + nums[k] < 0:\n",
    "                    j += 1\n",
    "                elif nums[i] + nums[j] + nums[k] > 0:\n",
    "                    k -= 1\n",
    "                else:\n",
    "                    result.append([nums[i], nums[j], nums[k]])\n",
    "                    j, k = j + 1, k - 1\n",
    "                    while j < k and nums[j] == nums[j - 1]:\n",
    "                        j += 1\n",
    "                    while j < k and nums[k] == nums[k + 1]:\n",
    "                        k -= 1\n",
    "            i += 1\n",
    "            while i < len(nums) - 2 and nums[i] == nums[i - 1]:\n",
    "                i += 1\n",
    "        return result"
   ]
  },
  {
   "cell_type": "code",
   "execution_count": 36,
   "metadata": {
    "ExecuteTime": {
     "end_time": "2019-11-17T03:13:34.672913Z",
     "start_time": "2019-11-17T03:13:34.660127Z"
    }
   },
   "outputs": [
    {
     "name": "stdout",
     "output_type": "stream",
     "text": [
      "[[-10, 2, 8], [-7, -3, 10]]\n"
     ]
    }
   ],
   "source": [
    "print(threeSumZero().threeSumZero([-25, -10, -7, -3, 2, 4, 8, 10]))"
   ]
  },
  {
   "cell_type": "markdown",
   "metadata": {},
   "source": [
    "#### Q7"
   ]
  },
  {
   "cell_type": "code",
   "execution_count": 43,
   "metadata": {
    "ExecuteTime": {
     "end_time": "2019-11-17T03:16:28.716099Z",
     "start_time": "2019-11-17T03:16:28.696384Z"
    }
   },
   "outputs": [],
   "source": [
    "class Pow:\n",
    "    def power(self, x, n):\n",
    "        if x==0 or x==1 or n==1:\n",
    "            return x \n",
    "\n",
    "        if x==-1:\n",
    "            if n%2 ==0:\n",
    "                return 1\n",
    "            else:\n",
    "                return -1\n",
    "        if n==0:\n",
    "            return 1\n",
    "        if n<0:\n",
    "            return 1/self.power(x,-n)\n",
    "        val = self.power(x,n//2)\n",
    "        if n%2 ==0:\n",
    "            return val*val\n",
    "        return val*val*x"
   ]
  },
  {
   "cell_type": "code",
   "execution_count": 45,
   "metadata": {
    "ExecuteTime": {
     "end_time": "2019-11-17T03:16:34.940612Z",
     "start_time": "2019-11-17T03:16:34.929219Z"
    }
   },
   "outputs": [
    {
     "name": "stdout",
     "output_type": "stream",
     "text": [
      "8\n"
     ]
    }
   ],
   "source": [
    "print(Pow().power(2, 3));"
   ]
  },
  {
   "cell_type": "markdown",
   "metadata": {},
   "source": [
    "#### Q8"
   ]
  },
  {
   "cell_type": "code",
   "execution_count": 52,
   "metadata": {
    "ExecuteTime": {
     "end_time": "2019-11-17T03:18:54.780474Z",
     "start_time": "2019-11-17T03:18:54.773215Z"
    }
   },
   "outputs": [],
   "source": [
    "class ReverseWords:\n",
    "    def reverse_words(self, s):\n",
    "        return ' '.join(reversed(s.split()))"
   ]
  },
  {
   "cell_type": "code",
   "execution_count": 53,
   "metadata": {
    "ExecuteTime": {
     "end_time": "2019-11-17T03:18:55.366869Z",
     "start_time": "2019-11-17T03:18:55.361424Z"
    }
   },
   "outputs": [
    {
     "name": "stdout",
     "output_type": "stream",
     "text": [
      ".py hello\n"
     ]
    }
   ],
   "source": [
    "print(ReverseWords().reverse_words('hello .py'))"
   ]
  },
  {
   "cell_type": "markdown",
   "metadata": {},
   "source": [
    "#### Q9"
   ]
  },
  {
   "cell_type": "code",
   "execution_count": 54,
   "metadata": {
    "ExecuteTime": {
     "end_time": "2019-11-17T03:20:47.180139Z",
     "start_time": "2019-11-17T03:20:47.171352Z"
    }
   },
   "outputs": [],
   "source": [
    "class String():\n",
    "    def __init__(self):\n",
    "        self.str = \"\"\n",
    "\n",
    "    def get_String(self):\n",
    "        self.str = input()\n",
    "\n",
    "    def print_String(self):\n",
    "        print(self.str.upper())"
   ]
  },
  {
   "cell_type": "code",
   "execution_count": 55,
   "metadata": {
    "ExecuteTime": {
     "end_time": "2019-11-17T03:20:51.566026Z",
     "start_time": "2019-11-17T03:20:47.956088Z"
    }
   },
   "outputs": [
    {
     "name": "stdout",
     "output_type": "stream",
     "text": [
      "sudharshan\n",
      "SUDHARSHAN\n"
     ]
    }
   ],
   "source": [
    "s = String()\n",
    "s.get_String()\n",
    "s.print_String()"
   ]
  },
  {
   "cell_type": "markdown",
   "metadata": {},
   "source": [
    "#### Q10"
   ]
  },
  {
   "cell_type": "code",
   "execution_count": 56,
   "metadata": {
    "ExecuteTime": {
     "end_time": "2019-11-17T03:21:52.150000Z",
     "start_time": "2019-11-17T03:21:52.138596Z"
    }
   },
   "outputs": [],
   "source": [
    "class Rectangle():\n",
    "    def __init__(self, l, w):\n",
    "        self.length = l\n",
    "        self.width  = w\n",
    "\n",
    "    def rectangle_area(self):\n",
    "        return self.length*self.width"
   ]
  },
  {
   "cell_type": "code",
   "execution_count": 57,
   "metadata": {
    "ExecuteTime": {
     "end_time": "2019-11-17T03:21:52.693340Z",
     "start_time": "2019-11-17T03:21:52.685899Z"
    }
   },
   "outputs": [
    {
     "name": "stdout",
     "output_type": "stream",
     "text": [
      "35\n"
     ]
    }
   ],
   "source": [
    "newRectangle = Rectangle(5, 7)\n",
    "print(newRectangle.rectangle_area())"
   ]
  },
  {
   "cell_type": "markdown",
   "metadata": {},
   "source": [
    "#### Q11"
   ]
  },
  {
   "cell_type": "code",
   "execution_count": 58,
   "metadata": {
    "ExecuteTime": {
     "end_time": "2019-11-17T03:22:36.365238Z",
     "start_time": "2019-11-17T03:22:36.352420Z"
    }
   },
   "outputs": [],
   "source": [
    "class Circle():\n",
    "    def __init__(self, r):\n",
    "        self.radius = r\n",
    "\n",
    "    def area(self):\n",
    "        return self.radius**2*3.14\n",
    "    \n",
    "    def perimeter(self):\n",
    "        return 2*self.radius*3.14"
   ]
  },
  {
   "cell_type": "code",
   "execution_count": 59,
   "metadata": {
    "ExecuteTime": {
     "end_time": "2019-11-17T03:22:41.601273Z",
     "start_time": "2019-11-17T03:22:41.590347Z"
    }
   },
   "outputs": [
    {
     "name": "stdout",
     "output_type": "stream",
     "text": [
      "153.86\n",
      "43.96\n"
     ]
    }
   ],
   "source": [
    "NewCircle = Circle(7)\n",
    "print(NewCircle.area())\n",
    "print(NewCircle.perimeter())"
   ]
  },
  {
   "cell_type": "markdown",
   "metadata": {},
   "source": [
    "#### Q12"
   ]
  },
  {
   "cell_type": "code",
   "execution_count": 60,
   "metadata": {
    "ExecuteTime": {
     "end_time": "2019-11-17T03:23:51.636512Z",
     "start_time": "2019-11-17T03:23:51.627622Z"
    }
   },
   "outputs": [],
   "source": [
    "class Dummy:\n",
    "    def dummy():\n",
    "        return"
   ]
  },
  {
   "cell_type": "code",
   "execution_count": 61,
   "metadata": {
    "ExecuteTime": {
     "end_time": "2019-11-17T03:23:58.501162Z",
     "start_time": "2019-11-17T03:23:58.490592Z"
    }
   },
   "outputs": [],
   "source": [
    "d = Dummy()"
   ]
  },
  {
   "cell_type": "code",
   "execution_count": 67,
   "metadata": {
    "ExecuteTime": {
     "end_time": "2019-11-17T03:26:01.695953Z",
     "start_time": "2019-11-17T03:26:01.688482Z"
    }
   },
   "outputs": [
    {
     "data": {
      "text/plain": [
       "'Dummy'"
      ]
     },
     "execution_count": 67,
     "metadata": {},
     "output_type": "execute_result"
    }
   ],
   "source": [
    "d.__class__.__name__"
   ]
  },
  {
   "cell_type": "markdown",
   "metadata": {},
   "source": [
    "## Data and Time\n",
    "#### Q1"
   ]
  },
  {
   "cell_type": "code",
   "execution_count": 68,
   "metadata": {
    "ExecuteTime": {
     "end_time": "2019-11-17T03:27:49.514868Z",
     "start_time": "2019-11-17T03:27:49.498057Z"
    }
   },
   "outputs": [
    {
     "name": "stdout",
     "output_type": "stream",
     "text": [
      "Current date and time:  2019-11-17 08:57:49.506081\n",
      "Current year:  2019\n",
      "Month of year:  November\n",
      "Week number of the year:  45\n",
      "Weekday of the week:  0\n",
      "Day of year:  321\n",
      "Day of the month :  17\n",
      "Day of week:  Sunday\n"
     ]
    }
   ],
   "source": [
    "import time\n",
    "import datetime\n",
    "print(\"Current date and time: \" , datetime.datetime.now())\n",
    "print(\"Current year: \", datetime.date.today().strftime(\"%Y\"))\n",
    "print(\"Month of year: \", datetime.date.today().strftime(\"%B\"))\n",
    "print(\"Week number of the year: \", datetime.date.today().strftime(\"%W\"))\n",
    "print(\"Weekday of the week: \", datetime.date.today().strftime(\"%w\"))\n",
    "print(\"Day of year: \", datetime.date.today().strftime(\"%j\"))\n",
    "print(\"Day of the month : \", datetime.date.today().strftime(\"%d\"))\n",
    "print(\"Day of week: \", datetime.date.today().strftime(\"%A\"))"
   ]
  },
  {
   "cell_type": "markdown",
   "metadata": {},
   "source": [
    "#### Q2"
   ]
  },
  {
   "cell_type": "code",
   "execution_count": 70,
   "metadata": {
    "ExecuteTime": {
     "end_time": "2019-11-17T03:30:42.177405Z",
     "start_time": "2019-11-17T03:30:42.164409Z"
    }
   },
   "outputs": [
    {
     "name": "stdout",
     "output_type": "stream",
     "text": [
      "2014-07-01 14:43:00\n"
     ]
    }
   ],
   "source": [
    "from datetime import datetime\n",
    "def str_to_time(s):\n",
    "    return datetime.strptime(s, '%b %d %Y %I:%M%p')\n",
    "print(str_to_time('Jul 1 2014 2:43PM'))"
   ]
  },
  {
   "cell_type": "markdown",
   "metadata": {},
   "source": [
    "#### Q3"
   ]
  },
  {
   "cell_type": "code",
   "execution_count": 71,
   "metadata": {
    "ExecuteTime": {
     "end_time": "2019-11-17T03:31:21.297504Z",
     "start_time": "2019-11-17T03:31:21.287975Z"
    }
   },
   "outputs": [
    {
     "name": "stdout",
     "output_type": "stream",
     "text": [
      "09:01:21.289932\n"
     ]
    }
   ],
   "source": [
    "import datetime\n",
    "print(datetime.datetime.now().time())"
   ]
  },
  {
   "cell_type": "markdown",
   "metadata": {},
   "source": [
    "#### Q4"
   ]
  },
  {
   "cell_type": "code",
   "execution_count": 72,
   "metadata": {
    "ExecuteTime": {
     "end_time": "2019-11-17T03:31:51.863612Z",
     "start_time": "2019-11-17T03:31:51.854658Z"
    }
   },
   "outputs": [
    {
     "name": "stdout",
     "output_type": "stream",
     "text": [
      "Current Date : 2019-11-17\n",
      "5 days before Current Date : 2019-11-12\n"
     ]
    }
   ],
   "source": [
    "from datetime import date, timedelta\n",
    "dt = date.today() - timedelta(5)\n",
    "print('Current Date :',date.today())\n",
    "print('5 days before Current Date :',dt)"
   ]
  },
  {
   "cell_type": "markdown",
   "metadata": {},
   "source": [
    "#### Q5"
   ]
  },
  {
   "cell_type": "code",
   "execution_count": 73,
   "metadata": {
    "ExecuteTime": {
     "end_time": "2019-11-17T03:32:48.943140Z",
     "start_time": "2019-11-17T03:32:48.932051Z"
    }
   },
   "outputs": [
    {
     "name": "stdout",
     "output_type": "stream",
     "text": [
      "Yesterday :  2019-11-16\n",
      "Today :  2019-11-17\n",
      "Tomorrow :  2019-11-18\n"
     ]
    }
   ],
   "source": [
    "import datetime \n",
    "today = datetime.date.today()\n",
    "yesterday = today - datetime.timedelta(days = 1)\n",
    "tomorrow = today + datetime.timedelta(days = 1) \n",
    "print('Yesterday : ',yesterday)\n",
    "print('Today : ',today)\n",
    "print('Tomorrow : ',tomorrow)"
   ]
  },
  {
   "cell_type": "markdown",
   "metadata": {},
   "source": [
    "#### Q6"
   ]
  },
  {
   "cell_type": "code",
   "execution_count": 74,
   "metadata": {
    "ExecuteTime": {
     "end_time": "2019-11-17T03:34:48.411652Z",
     "start_time": "2019-11-17T03:34:48.399136Z"
    }
   },
   "outputs": [
    {
     "name": "stdout",
     "output_type": "stream",
     "text": [
      "321\n"
     ]
    }
   ],
   "source": [
    "import datetime\n",
    "today = datetime.datetime.now()\n",
    "day_of_year = (today - datetime.datetime(today.year, 1, 1)).days + 1\n",
    "print(day_of_year)"
   ]
  },
  {
   "cell_type": "markdown",
   "metadata": {},
   "source": [
    "#### Q7"
   ]
  },
  {
   "cell_type": "code",
   "execution_count": 75,
   "metadata": {
    "ExecuteTime": {
     "end_time": "2019-11-17T03:35:17.769313Z",
     "start_time": "2019-11-17T03:35:17.756758Z"
    }
   },
   "outputs": [
    {
     "name": "stdout",
     "output_type": "stream",
     "text": [
      "\n",
      "2019-11-17 09:05:17\n",
      "\n"
     ]
    }
   ],
   "source": [
    "import datetime\n",
    "dt = datetime.datetime.today().replace(microsecond=0)\n",
    "print()\n",
    "print(dt)\n",
    "print()"
   ]
  },
  {
   "cell_type": "markdown",
   "metadata": {},
   "source": [
    "## List\n",
    "#### Q1"
   ]
  },
  {
   "cell_type": "code",
   "execution_count": 78,
   "metadata": {
    "ExecuteTime": {
     "end_time": "2019-11-17T03:37:16.101187Z",
     "start_time": "2019-11-17T03:37:16.093659Z"
    }
   },
   "outputs": [
    {
     "name": "stdout",
     "output_type": "stream",
     "text": [
      "['Green', 'White', 'Black']\n"
     ]
    }
   ],
   "source": [
    "old = ['Red', 'Green', 'White', 'Black', 'Pink', 'Yellow']\n",
    "new = [x for (i,x) in enumerate(old) if i not in (0,4,5)]\n",
    "print(new)"
   ]
  },
  {
   "cell_type": "markdown",
   "metadata": {},
   "source": [
    "#### Q2"
   ]
  },
  {
   "cell_type": "code",
   "execution_count": 80,
   "metadata": {
    "ExecuteTime": {
     "end_time": "2019-11-17T03:38:31.821446Z",
     "start_time": "2019-11-17T03:38:31.810678Z"
    }
   },
   "outputs": [
    {
     "name": "stdout",
     "output_type": "stream",
     "text": [
      "[1, 3, 5, 7]\n"
     ]
    }
   ],
   "source": [
    "nums = [1,2,3,4,5,6,7,8]\n",
    "nums= [x for x in nums if x%2!=0]\n",
    "print(nums)"
   ]
  },
  {
   "cell_type": "markdown",
   "metadata": {},
   "source": [
    "#### Q3"
   ]
  },
  {
   "cell_type": "code",
   "execution_count": 82,
   "metadata": {
    "ExecuteTime": {
     "end_time": "2019-11-17T03:40:16.546378Z",
     "start_time": "2019-11-17T03:40:16.533370Z"
    }
   },
   "outputs": [
    {
     "name": "stdout",
     "output_type": "stream",
     "text": [
      "[36, 49, 64, 81, 100]\n"
     ]
    }
   ],
   "source": [
    "l = []\n",
    "for i in range(1,11):\n",
    "    l.append(i**2)\n",
    "print(l[5:])"
   ]
  },
  {
   "cell_type": "markdown",
   "metadata": {},
   "source": [
    "#### Q4"
   ]
  },
  {
   "cell_type": "code",
   "execution_count": 83,
   "metadata": {
    "ExecuteTime": {
     "end_time": "2019-11-17T03:40:56.294419Z",
     "start_time": "2019-11-17T03:40:56.286055Z"
    }
   },
   "outputs": [
    {
     "name": "stdout",
     "output_type": "stream",
     "text": [
      "1\n"
     ]
    }
   ],
   "source": [
    "l =[1,2,3,4]\n",
    "print(l.index(2))"
   ]
  },
  {
   "cell_type": "markdown",
   "metadata": {},
   "source": [
    "#### Q5"
   ]
  },
  {
   "cell_type": "code",
   "execution_count": 84,
   "metadata": {
    "ExecuteTime": {
     "end_time": "2019-11-17T03:41:57.776644Z",
     "start_time": "2019-11-17T03:41:57.769502Z"
    }
   },
   "outputs": [
    {
     "name": "stdout",
     "output_type": "stream",
     "text": [
      "abcde\n"
     ]
    }
   ],
   "source": [
    "l = ['a','b','c','d','e']\n",
    "print(''.join(l))"
   ]
  },
  {
   "cell_type": "markdown",
   "metadata": {},
   "source": [
    "#### Q6"
   ]
  },
  {
   "cell_type": "code",
   "execution_count": 86,
   "metadata": {
    "ExecuteTime": {
     "end_time": "2019-11-17T03:42:42.676157Z",
     "start_time": "2019-11-17T03:42:42.666282Z"
    }
   },
   "outputs": [
    {
     "name": "stdout",
     "output_type": "stream",
     "text": [
      "{'a', 'b', 'c'}\n"
     ]
    }
   ],
   "source": [
    "l = ['a','a','b','b','c']\n",
    "print(set(l))"
   ]
  },
  {
   "cell_type": "markdown",
   "metadata": {},
   "source": [
    "#### Q7"
   ]
  },
  {
   "cell_type": "code",
   "execution_count": 87,
   "metadata": {
    "ExecuteTime": {
     "end_time": "2019-11-17T03:44:07.042173Z",
     "start_time": "2019-11-17T03:44:07.028896Z"
    }
   },
   "outputs": [
    {
     "name": "stdout",
     "output_type": "stream",
     "text": [
      "Original List :  [1, 1, 1, 1, 2, 2, 2, 2, 3, 3, 5, 5, 3]\n",
      "Frequency of the elements in the List :  Counter({1: 4, 2: 4, 3: 3, 5: 2})\n"
     ]
    }
   ],
   "source": [
    "import collections\n",
    "l = [1,1,1,1,2,2,2,2,3,3,5,5,3]\n",
    "print(\"Original List : \",l)\n",
    "c = collections.Counter(l)\n",
    "print(\"Frequency of the elements in the List : \",c)"
   ]
  },
  {
   "cell_type": "markdown",
   "metadata": {},
   "source": [
    "#### Q8"
   ]
  },
  {
   "cell_type": "code",
   "execution_count": 89,
   "metadata": {
    "ExecuteTime": {
     "end_time": "2019-11-17T03:46:30.299937Z",
     "start_time": "2019-11-17T03:46:30.282652Z"
    }
   },
   "outputs": [
    {
     "name": "stdout",
     "output_type": "stream",
     "text": [
      "Original list:\n",
      "[1, 2, 3]\n",
      "Sublist\n",
      "[[], [1], [2], [3], [1, 2], [1, 3], [2, 3], [1, 2, 3]]\n"
     ]
    }
   ],
   "source": [
    "from itertools import combinations\n",
    "def sub_lists(l):\n",
    "    subs = []\n",
    "    for i in range(0, len(l)+1):\n",
    "        temp = [list(x) for x in combinations(l, i)]\n",
    "        if len(temp)>0:\n",
    "            subs.extend(temp)\n",
    "    return subs\n",
    "\n",
    "\n",
    "l = [1,2,3]\n",
    "\n",
    "print(\"Original list:\")\n",
    "print(l)\n",
    "print(\"Sublist\")\n",
    "print(sub_lists(l))\n",
    "\n"
   ]
  }
 ],
 "metadata": {
  "kernelspec": {
   "display_name": "Python 3",
   "language": "python",
   "name": "python3"
  },
  "language_info": {
   "codemirror_mode": {
    "name": "ipython",
    "version": 3
   },
   "file_extension": ".py",
   "mimetype": "text/x-python",
   "name": "python",
   "nbconvert_exporter": "python",
   "pygments_lexer": "ipython3",
   "version": "3.7.4"
  },
  "varInspector": {
   "cols": {
    "lenName": 16,
    "lenType": 16,
    "lenVar": 40
   },
   "kernels_config": {
    "python": {
     "delete_cmd_postfix": "",
     "delete_cmd_prefix": "del ",
     "library": "var_list.py",
     "varRefreshCmd": "print(var_dic_list())"
    },
    "r": {
     "delete_cmd_postfix": ") ",
     "delete_cmd_prefix": "rm(",
     "library": "var_list.r",
     "varRefreshCmd": "cat(var_dic_list()) "
    }
   },
   "types_to_exclude": [
    "module",
    "function",
    "builtin_function_or_method",
    "instance",
    "_Feature"
   ],
   "window_display": false
  }
 },
 "nbformat": 4,
 "nbformat_minor": 2
}
