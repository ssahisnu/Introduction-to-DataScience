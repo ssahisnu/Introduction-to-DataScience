{
 "cells": [
  {
   "cell_type": "code",
   "execution_count": 3,
   "metadata": {},
   "outputs": [
    {
     "data": {
      "text/plain": [
       "26831.14274532783"
      ]
     },
     "execution_count": 3,
     "metadata": {},
     "output_type": "execute_result"
    }
   ],
   "source": [
    "import numpy as np\n",
    "\n",
    "incomes = np.random.normal(27000, 15000, 10000)\n",
    "np.mean(incomes)"
   ]
  },
  {
   "cell_type": "code",
   "execution_count": 6,
   "metadata": {},
   "outputs": [
    {
     "data": {
      "image/png": "[encoded data removed]",
      "text/plain": [
       "<matplotlib.figure.Figure at 0x2651665ef60>"
      ]
     },
     "metadata": {},
     "output_type": "display_data"
    }
   ],
   "source": [
    "import matplotlib.pyplot as plt\n",
    "plt.hist(incomes, 50)\n",
    "plt.show()"
   ]
  },
  {
   "cell_type": "code",
   "execution_count": 3,
   "metadata": {},
   "outputs": [
    {
     "data": {
      "text/plain": [
       "27195.153719614136"
      ]
     },
     "execution_count": 3,
     "metadata": {},
     "output_type": "execute_result"
    }
   ],
   "source": [
    "np.median(incomes)"
   ]
  },
  {
   "cell_type": "code",
   "execution_count": 10,
   "metadata": {},
   "outputs": [],
   "source": [
    "incomes = np.append(incomes, [1000000000])"
   ]
  },
  {
   "cell_type": "code",
   "execution_count": 11,
   "metadata": {},
   "outputs": [
    {
     "data": {
      "text/plain": [
       "26818.211970853892"
      ]
     },
     "execution_count": 11,
     "metadata": {},
     "output_type": "execute_result"
    }
   ],
   "source": [
    "np.median(incomes)"
   ]
  },
  {
   "cell_type": "code",
   "execution_count": 12,
   "metadata": {},
   "outputs": [
    {
     "data": {
      "text/plain": [
       "126818.46089923791"
      ]
     },
     "execution_count": 12,
     "metadata": {},
     "output_type": "execute_result"
    }
   ],
   "source": [
    "np.mean(incomes)"
   ]
  },
  {
   "cell_type": "code",
   "execution_count": 13,
   "metadata": {},
   "outputs": [
    {
     "data": {
      "text/plain": [
       "array([59, 72, 55, 54, 32, 65, 44, 22, 77, 18, 30, 43, 18, 62, 60, 71, 38,\n",
       "       46, 38, 34, 29, 58, 27, 58, 18, 83, 41, 89, 67, 85, 73, 60, 62, 46,\n",
       "       80, 56, 63, 76, 32, 55, 22, 73, 88, 35, 52, 19, 54, 49, 43, 25, 80,\n",
       "       81, 75, 88, 41, 62, 77, 88, 87, 40, 31, 72, 26, 68, 23, 46, 28, 24,\n",
       "       48, 26, 60, 76, 34, 49, 29, 32, 58, 72, 66, 20, 66, 78, 72, 22, 45,\n",
       "       83, 31, 24, 36, 80, 78, 69, 51, 42, 87, 48, 77, 61, 19, 78, 46, 81,\n",
       "       26, 87, 35, 21, 71, 85, 78, 50, 20, 36, 47, 41, 19, 22, 69, 20, 52,\n",
       "       55, 20, 57, 54, 88, 76, 43, 32, 61, 44, 76, 71, 58, 88, 50, 29, 54,\n",
       "       83, 68, 73, 66, 41, 67, 77, 23, 26, 84, 29, 70, 39, 64, 82, 43, 21,\n",
       "       43, 49, 75, 42, 30, 87, 80, 62, 63, 20, 53, 85, 18, 89, 75, 42, 61,\n",
       "       34, 86, 49, 40, 56, 68, 47, 40, 40, 74, 18, 45, 26, 29, 83, 68, 88,\n",
       "       26, 79, 26, 61, 39, 42, 49, 36, 79, 24, 69, 77, 24, 73, 66, 32, 23,\n",
       "       76, 21, 78, 19, 66, 50, 73, 58, 51, 20, 61, 46, 21, 41, 44, 37, 27,\n",
       "       42, 34, 77, 84, 27, 82, 35, 21, 39, 32, 29, 35, 78, 72, 62, 71, 47,\n",
       "       26, 50, 89, 25, 44, 78, 51, 57, 76, 33, 54, 79, 22, 43, 48, 25, 34,\n",
       "       19, 22, 61, 64, 18, 78, 32, 73, 54, 70, 66, 27, 40, 43, 70, 37, 29,\n",
       "       71, 64, 26, 62, 79, 75, 35, 37, 25, 54, 50, 86, 88, 49, 58, 52, 88,\n",
       "       43, 56, 88, 55, 79, 88, 51, 62, 71, 70, 39, 28, 88, 89, 77, 49, 53,\n",
       "       75, 82, 43, 83, 54, 61, 31, 19, 46, 21, 38, 72, 74, 30, 57, 23, 79,\n",
       "       29, 57, 59, 63, 52, 48, 51, 84, 21, 38, 31, 63, 57, 58, 73, 35, 63,\n",
       "       32, 57, 32, 56, 65, 68, 59, 88, 22, 70, 87, 29, 19, 26, 86, 88, 74,\n",
       "       77, 28, 85, 27, 70, 23, 61, 51, 70, 36, 27, 74, 64, 36, 18, 77, 30,\n",
       "       28, 48, 74, 45, 51, 63, 44, 71, 62, 33, 22, 40, 32, 45, 80, 58, 36,\n",
       "       44, 73, 23, 64, 22, 36, 54, 56, 57, 80, 61, 88, 18, 76, 83, 75, 86,\n",
       "       57, 85, 51, 68, 62, 32, 38, 49, 68, 79, 87, 18, 67, 87, 45, 82, 55,\n",
       "       74, 85, 31, 30, 65, 37, 60, 40, 47, 65, 86, 53, 52, 69, 78, 43, 76,\n",
       "       88, 84, 28, 20, 64, 21, 43, 85, 19, 89, 46, 62, 87, 47, 63, 48, 33,\n",
       "       62, 50, 43, 49, 57, 54, 51, 77, 30, 77, 62, 57, 84, 62, 24, 19, 82,\n",
       "       56, 73, 87, 55, 29, 81, 80, 56, 87, 27, 31, 23, 79, 34, 84, 31, 30,\n",
       "       35, 76, 48, 31, 64, 66, 41])"
      ]
     },
     "execution_count": 13,
     "metadata": {},
     "output_type": "execute_result"
    }
   ],
   "source": [
    "ages = np.random.randint(18, high=90, size=500)\n",
    "ages"
   ]
  },
  {
   "cell_type": "code",
   "execution_count": 14,
   "metadata": {},
   "outputs": [
    {
     "data": {
      "text/plain": [
       "ModeResult(mode=array([88]), count=array([15]))"
      ]
     },
     "execution_count": 14,
     "metadata": {},
     "output_type": "execute_result"
    }
   ],
   "source": [
    "from scipy import stats\n",
    "stats.mode(ages)"
   ]
  },
  {
   "cell_type": "code",
   "execution_count": null,
   "metadata": {},
   "outputs": [],
   "source": []
  }
 ],
 "metadata": {
  "kernelspec": {
   "display_name": "Python 3",
   "language": "python",
   "name": "python3"
  },
  "language_info": {
   "codemirror_mode": {
    "name": "ipython",
    "version": 3
   },
   "file_extension": ".py",
   "mimetype": "text/x-python",
   "name": "python",
   "nbconvert_exporter": "python",
   "pygments_lexer": "ipython3",
   "version": "3.7.4"
  }
 },
 "nbformat": 4,
 "nbformat_minor": 1
}
