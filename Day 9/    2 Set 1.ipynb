{
 "cells": [
  {
   "cell_type": "markdown",
   "metadata": {},
   "source": [
    "## Open Lab Assignment 2 Set 1\n",
    "\n",
    "### Name: MANOJKUMAR VK\n",
    "### Roll Number: CB.EN.U4CSE17040\n",
    "\n",
    "## Note: I have referred online resources for solutions and I have implemented only after complete understanding"
   ]
  },
  {
   "cell_type": "markdown",
   "metadata": {},
   "source": [
    "### Q1"
   ]
  },
  {
   "cell_type": "code",
   "execution_count": 3,
   "metadata": {
    "ExecuteTime": {
     "end_time": "2019-11-17T04:20:10.869433Z",
     "start_time": "2019-11-17T04:20:09.403411Z"
    }
   },
   "outputs": [
    {
     "name": "stdout",
     "output_type": "stream",
     "text": [
      "5 610 34 0 1346269 10946\n",
      "5 15 9 0 31 21\n"
     ]
    }
   ],
   "source": [
    "def findIndex(n) : \n",
    "    \n",
    "    if (n <= 1) : \n",
    "        return n \n",
    "\n",
    "    a = 0\n",
    "    b = 1\n",
    "    c = 1\n",
    "    res = 1\n",
    "\n",
    "\n",
    "    while (c < n) : \n",
    "        c = a + b \n",
    "\n",
    "        res = res + 1\n",
    "        a = b \n",
    "        b = c \n",
    "\n",
    "    return res \n",
    "l = list(map(int,input().split()))\n",
    "result = []\n",
    "for i in l:\n",
    "    result.append(str(findIndex(i)))\n",
    "print(' '.join(result))"
   ]
  },
  {
   "cell_type": "markdown",
   "metadata": {},
   "source": [
    "#### Q2"
   ]
  },
  {
   "cell_type": "code",
   "execution_count": 9,
   "metadata": {
    "ExecuteTime": {
     "end_time": "2019-11-17T04:34:50.505890Z",
     "start_time": "2019-11-17T04:34:45.828902Z"
    }
   },
   "outputs": [
    {
     "name": "stdout",
     "output_type": "stream",
     "text": [
      "1\n",
      "5 4 3\n",
      "A\n"
     ]
    }
   ],
   "source": [
    "def pythagorean(triangles):\n",
    "    answer = []\n",
    "    for triangle in range(triangles):\n",
    "        sides = input().split()\n",
    "        a,b,c = sides\n",
    "        a,b,c = int(a),int(b),int(c)\n",
    "\n",
    "        if a**2 + b**2 == c**2:\n",
    "            answer.append('R')\n",
    "        elif a**2 + b**2 > c**2:\n",
    "            answer.append('A')\n",
    "        elif a**2 + b**2 < c**2:\n",
    "            answer.append('O')\n",
    "    print(' '.join(answer))\n",
    "pythagorean(int(input()))"
   ]
  },
  {
   "cell_type": "markdown",
   "metadata": {},
   "source": [
    "#### Q3"
   ]
  },
  {
   "cell_type": "code",
   "execution_count": 12,
   "metadata": {
    "ExecuteTime": {
     "end_time": "2019-11-17T04:37:24.794019Z",
     "start_time": "2019-11-17T04:37:22.601501Z"
    }
   },
   "outputs": [
    {
     "name": "stdout",
     "output_type": "stream",
     "text": [
      "10 3\n",
      "4\n"
     ]
    }
   ],
   "source": [
    "def solveJosephus(specifics):\n",
    "    people = [int(x) for x in range(1,int(specifics[0])+1)]\n",
    "    killPosition = int(specifics[1])\n",
    "    positionCounter = 0\n",
    "    sorted = False\n",
    "\n",
    "    while not sorted:\n",
    "        if len(people) == 1:\n",
    "            print(people[0])\n",
    "            sorted = True\n",
    "        for person in people[:]:\n",
    "            positionCounter += 1\n",
    "            if positionCounter == killPosition:\n",
    "                people.remove(person)\n",
    "                positionCounter = 0\n",
    "\n",
    "solveJosephus(input().split())"
   ]
  },
  {
   "cell_type": "code",
   "execution_count": null,
   "metadata": {},
   "outputs": [],
   "source": []
  }
 ],
 "metadata": {
  "kernelspec": {
   "display_name": "Python 3",
   "language": "python",
   "name": "python3"
  },
  "language_info": {
   "codemirror_mode": {
    "name": "ipython",
    "version": 3
   },
   "file_extension": ".py",
   "mimetype": "text/x-python",
   "name": "python",
   "nbconvert_exporter": "python",
   "pygments_lexer": "ipython3",
   "version": "3.7.4"
  },
  "varInspector": {
   "cols": {
    "lenName": 16,
    "lenType": 16,
    "lenVar": 40
   },
   "kernels_config": {
    "python": {
     "delete_cmd_postfix": "",
     "delete_cmd_prefix": "del ",
     "library": "var_list.py",
     "varRefreshCmd": "print(var_dic_list())"
    },
    "r": {
     "delete_cmd_postfix": ") ",
     "delete_cmd_prefix": "rm(",
     "library": "var_list.r",
     "varRefreshCmd": "cat(var_dic_list()) "
    }
   },
   "types_to_exclude": [
    "module",
    "function",
    "builtin_function_or_method",
    "instance",
    "_Feature"
   ],
   "window_display": false
  }
 },
 "nbformat": 4,
 "nbformat_minor": 2
}
